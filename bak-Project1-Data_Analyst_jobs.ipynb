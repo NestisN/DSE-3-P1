{
  "nbformat": 4,
  "nbformat_minor": 0,
  "metadata": {
    "colab": {
      "name": "Untitled0.ipynb",
      "provenance": [],
      "authorship_tag": "ABX9TyNTZEuQoPPch3dLnPSLgnxx",
      "include_colab_link": true
    },
    "kernelspec": {
      "name": "python3",
      "display_name": "Python 3"
    },
    "language_info": {
      "name": "python"
    }
  },
  "cells": [
    {
      "cell_type": "markdown",
      "metadata": {
        "id": "view-in-github",
        "colab_type": "text"
      },
      "source": [
        "<a href=\"https://colab.research.google.com/github/NestisN/DSE-3-P1/blob/main/bak-Project1-Data_Analyst_jobs.ipynb\" target=\"_parent\"><img src=\"https://colab.research.google.com/assets/colab-badge.svg\" alt=\"Open In Colab\"/></a>"
      ]
    },
    {
      "cell_type": "code",
      "metadata": {
        "id": "JoQpEVxHKaD4"
      },
      "source": [
        "import numpy as np\n",
        "import pandas as pd\n",
        "import matplotlib.pyplot as plt\n",
        "import plotly.express as px\n",
        "import plotly.graph_objects as go\n",
        "import seaborn as sns\n",
        "from wordcloud import WordCloud"
      ],
      "execution_count": 1,
      "outputs": []
    },
    {
      "cell_type": "code",
      "metadata": {
        "id": "ALTcrqp0NwOv",
        "outputId": "3bf81ddc-e4de-4b33-f392-d6d381292079",
        "colab": {
          "base_uri": "https://localhost:8080/"
        }
      },
      "source": [
        "from google.colab import drive\n",
        "drive.mount('/content/drive')"
      ],
      "execution_count": 2,
      "outputs": [
        {
          "output_type": "stream",
          "text": [
            "Drive already mounted at /content/drive; to attempt to forcibly remount, call drive.mount(\"/content/drive\", force_remount=True).\n"
          ],
          "name": "stdout"
        }
      ]
    },
    {
      "cell_type": "code",
      "metadata": {
        "id": "KfLSSWuUO1ko",
        "outputId": "6398e291-d076-4e4b-d105-d3529fcbc7e0",
        "colab": {
          "base_uri": "https://localhost:8080/"
        }
      },
      "source": [
        "# After executing the cell above, Drive\n",
        "# files will be present in \"/content/drive/My Drive\".\n",
        "!ls \"/content/drive/My Drive/DSE3\""
      ],
      "execution_count": 3,
      "outputs": [
        {
          "output_type": "stream",
          "text": [
            "DataAnalyst.csv\n"
          ],
          "name": "stdout"
        }
      ]
    },
    {
      "cell_type": "code",
      "metadata": {
        "id": "hHmim1ieMudd"
      },
      "source": [
        "data=pd.read_csv('/content/drive/My Drive/DSE3/DataAnalyst.csv', index_col=0)"
      ],
      "execution_count": 4,
      "outputs": []
    },
    {
      "cell_type": "code",
      "metadata": {
        "id": "1omUeJo3PjgF",
        "outputId": "5d01cb5c-2775-4ff1-b173-d950178ec1d4",
        "colab": {
          "base_uri": "https://localhost:8080/",
          "height": 294
        }
      },
      "source": [
        "data.head(2)"
      ],
      "execution_count": 5,
      "outputs": [
        {
          "output_type": "execute_result",
          "data": {
            "text/html": [
              "<div>\n",
              "<style scoped>\n",
              "    .dataframe tbody tr th:only-of-type {\n",
              "        vertical-align: middle;\n",
              "    }\n",
              "\n",
              "    .dataframe tbody tr th {\n",
              "        vertical-align: top;\n",
              "    }\n",
              "\n",
              "    .dataframe thead th {\n",
              "        text-align: right;\n",
              "    }\n",
              "</style>\n",
              "<table border=\"1\" class=\"dataframe\">\n",
              "  <thead>\n",
              "    <tr style=\"text-align: right;\">\n",
              "      <th></th>\n",
              "      <th>Job Title</th>\n",
              "      <th>Salary Estimate</th>\n",
              "      <th>Job Description</th>\n",
              "      <th>Rating</th>\n",
              "      <th>Company Name</th>\n",
              "      <th>Location</th>\n",
              "      <th>Headquarters</th>\n",
              "      <th>Size</th>\n",
              "      <th>Founded</th>\n",
              "      <th>Type of ownership</th>\n",
              "      <th>Industry</th>\n",
              "      <th>Sector</th>\n",
              "      <th>Revenue</th>\n",
              "      <th>Competitors</th>\n",
              "      <th>Easy Apply</th>\n",
              "    </tr>\n",
              "  </thead>\n",
              "  <tbody>\n",
              "    <tr>\n",
              "      <th>0</th>\n",
              "      <td>Data Analyst, Center on Immigration and Justic...</td>\n",
              "      <td>$37K-$66K (Glassdoor est.)</td>\n",
              "      <td>Are you eager to roll up your sleeves and harn...</td>\n",
              "      <td>3.2</td>\n",
              "      <td>Vera Institute of Justice\\n3.2</td>\n",
              "      <td>New York, NY</td>\n",
              "      <td>New York, NY</td>\n",
              "      <td>201 to 500 employees</td>\n",
              "      <td>1961</td>\n",
              "      <td>Nonprofit Organization</td>\n",
              "      <td>Social Assistance</td>\n",
              "      <td>Non-Profit</td>\n",
              "      <td>$100 to $500 million (USD)</td>\n",
              "      <td>-1</td>\n",
              "      <td>True</td>\n",
              "    </tr>\n",
              "    <tr>\n",
              "      <th>1</th>\n",
              "      <td>Quality Data Analyst</td>\n",
              "      <td>$37K-$66K (Glassdoor est.)</td>\n",
              "      <td>Overview\\n\\nProvides analytical and technical ...</td>\n",
              "      <td>3.8</td>\n",
              "      <td>Visiting Nurse Service of New York\\n3.8</td>\n",
              "      <td>New York, NY</td>\n",
              "      <td>New York, NY</td>\n",
              "      <td>10000+ employees</td>\n",
              "      <td>1893</td>\n",
              "      <td>Nonprofit Organization</td>\n",
              "      <td>Health Care Services &amp; Hospitals</td>\n",
              "      <td>Health Care</td>\n",
              "      <td>$2 to $5 billion (USD)</td>\n",
              "      <td>-1</td>\n",
              "      <td>-1</td>\n",
              "    </tr>\n",
              "  </tbody>\n",
              "</table>\n",
              "</div>"
            ],
            "text/plain": [
              "                                           Job Title  ... Easy Apply\n",
              "0  Data Analyst, Center on Immigration and Justic...  ...       True\n",
              "1                               Quality Data Analyst  ...         -1\n",
              "\n",
              "[2 rows x 15 columns]"
            ]
          },
          "metadata": {
            "tags": []
          },
          "execution_count": 5
        }
      ]
    },
    {
      "cell_type": "code",
      "metadata": {
        "id": "2TUJk9HsQxlB",
        "outputId": "80d6a6e0-157e-4981-b55f-36137eb3352a",
        "colab": {
          "base_uri": "https://localhost:8080/"
        }
      },
      "source": [
        "data.isnull().sum()"
      ],
      "execution_count": 6,
      "outputs": [
        {
          "output_type": "execute_result",
          "data": {
            "text/plain": [
              "Job Title            0\n",
              "Salary Estimate      0\n",
              "Job Description      0\n",
              "Rating               0\n",
              "Company Name         1\n",
              "Location             0\n",
              "Headquarters         0\n",
              "Size                 0\n",
              "Founded              0\n",
              "Type of ownership    0\n",
              "Industry             0\n",
              "Sector               0\n",
              "Revenue              0\n",
              "Competitors          0\n",
              "Easy Apply           0\n",
              "dtype: int64"
            ]
          },
          "metadata": {
            "tags": []
          },
          "execution_count": 6
        }
      ]
    },
    {
      "cell_type": "code",
      "metadata": {
        "id": "FRT96tLlU-ya"
      },
      "source": [
        "df = pd.DataFrame(data,columns=['Company Name'])"
      ],
      "execution_count": 7,
      "outputs": []
    },
    {
      "cell_type": "code",
      "metadata": {
        "id": "IWXvc4KRWDnb",
        "outputId": "d2774fa2-0f8b-4e12-c8b2-1ae7bedde95a",
        "colab": {
          "base_uri": "https://localhost:8080/"
        }
      },
      "source": [
        "print(df)"
      ],
      "execution_count": 8,
      "outputs": [
        {
          "output_type": "stream",
          "text": [
            "                                 Company Name\n",
            "0              Vera Institute of Justice\\n3.2\n",
            "1     Visiting Nurse Service of New York\\n3.8\n",
            "2                            Squarespace\\n3.4\n",
            "3                               Celerity\\n4.1\n",
            "4                                FanDuel\\n3.9\n",
            "...                                       ...\n",
            "2248                       Avacend, Inc.\\n2.5\n",
            "2249                   Arrow Electronics\\n2.9\n",
            "2250                                 Spiceorb\n",
            "2251         Contingent Network Services\\n3.1\n",
            "2252                          SCL Health\\n3.4\n",
            "\n",
            "[2253 rows x 1 columns]\n"
          ],
          "name": "stdout"
        }
      ]
    },
    {
      "cell_type": "code",
      "metadata": {
        "id": "wSqoEN1aWojk",
        "outputId": "ea5736a8-4a41-4732-dfea-5eca6b1805bf",
        "colab": {
          "base_uri": "https://localhost:8080/"
        }
      },
      "source": [
        "print(df[df[\"Company Name\"].isnull()])"
      ],
      "execution_count": 9,
      "outputs": [
        {
          "output_type": "stream",
          "text": [
            "     Company Name\n",
            "1860          NaN\n"
          ],
          "name": "stdout"
        }
      ]
    },
    {
      "cell_type": "code",
      "metadata": {
        "id": "n5fJJe7ybB3_"
      },
      "source": [
        "data=data.replace(-1,np.nan)\n",
        "data=data.replace(-1.0,np.nan)\n",
        "data=data.replace('-1',np.nan)"
      ],
      "execution_count": 12,
      "outputs": []
    },
    {
      "cell_type": "code",
      "metadata": {
        "id": "29OiaW-NpZK2",
        "outputId": "fcc34f81-e6b5-43b4-b703-aa9e6bb04b71",
        "colab": {
          "base_uri": "https://localhost:8080/"
        }
      },
      "source": [
        "data.isnull().sum()"
      ],
      "execution_count": 43,
      "outputs": [
        {
          "output_type": "execute_result",
          "data": {
            "text/plain": [
              "Job Title               0\n",
              "Salary Estimate         1\n",
              "Job Description         0\n",
              "Rating                272\n",
              "Company Name            1\n",
              "Location                0\n",
              "Headquarters          172\n",
              "Size                  163\n",
              "Founded               660\n",
              "Type of ownership     163\n",
              "Industry              353\n",
              "Sector                353\n",
              "Revenue               163\n",
              "Competitors          1732\n",
              "Easy Apply           2173\n",
              "Min_Salary              0\n",
              "Max_Salary              0\n",
              "dtype: int64"
            ]
          },
          "metadata": {
            "tags": []
          },
          "execution_count": 43
        }
      ]
    },
    {
      "cell_type": "code",
      "metadata": {
        "id": "9AlcZz30ppOa"
      },
      "source": [
        "df2= pd.DataFrame(data)"
      ],
      "execution_count": 45,
      "outputs": []
    },
    {
      "cell_type": "code",
      "metadata": {
        "id": "QmFFVhpwqE4B"
      },
      "source": [
        "df2.dropna(subset=[\"Salary Estimate\"], inplace=True)"
      ],
      "execution_count": 47,
      "outputs": []
    },
    {
      "cell_type": "code",
      "metadata": {
        "id": "07TLPBUyqQX7",
        "outputId": "bdd371dc-cb6c-4881-d0fb-2bf4e46d22e3",
        "colab": {
          "base_uri": "https://localhost:8080/"
        }
      },
      "source": [
        "df2.isnull().sum()"
      ],
      "execution_count": 48,
      "outputs": [
        {
          "output_type": "execute_result",
          "data": {
            "text/plain": [
              "Job Title               0\n",
              "Salary Estimate         0\n",
              "Job Description         0\n",
              "Rating                272\n",
              "Company Name            1\n",
              "Location                0\n",
              "Headquarters          172\n",
              "Size                  163\n",
              "Founded               660\n",
              "Type of ownership     163\n",
              "Industry              353\n",
              "Sector                353\n",
              "Revenue               163\n",
              "Competitors          1731\n",
              "Easy Apply           2172\n",
              "Min_Salary              0\n",
              "Max_Salary              0\n",
              "dtype: int64"
            ]
          },
          "metadata": {
            "tags": []
          },
          "execution_count": 48
        }
      ]
    },
    {
      "cell_type": "code",
      "metadata": {
        "id": "G50DLacqqhvy",
        "outputId": "a64b171e-8afa-4b96-c156-c084a8f62b27",
        "colab": {
          "base_uri": "https://localhost:8080/"
        }
      },
      "source": [
        "df2[\"Salary Estimate\"]"
      ],
      "execution_count": 50,
      "outputs": [
        {
          "output_type": "execute_result",
          "data": {
            "text/plain": [
              "0        $37K-$66K \n",
              "1        $37K-$66K \n",
              "2        $37K-$66K \n",
              "3        $37K-$66K \n",
              "4        $37K-$66K \n",
              "           ...     \n",
              "2248    $78K-$104K \n",
              "2249    $78K-$104K \n",
              "2250    $78K-$104K \n",
              "2251    $78K-$104K \n",
              "2252    $78K-$104K \n",
              "Name: Salary Estimate, Length: 2252, dtype: object"
            ]
          },
          "metadata": {
            "tags": []
          },
          "execution_count": 50
        }
      ]
    },
    {
      "cell_type": "code",
      "metadata": {
        "id": "UjRl1f7ie3WB",
        "outputId": "19ea7850-0515-4dba-846c-7772a82760f4",
        "colab": {
          "base_uri": "https://localhost:8080/",
          "height": 229
        }
      },
      "source": [
        "data['Salary Estimate'],_=data['Salary Estimate'].str.split('(', 1).str"
      ],
      "execution_count": 49,
      "outputs": [
        {
          "output_type": "stream",
          "text": [
            "/usr/local/lib/python3.7/dist-packages/ipykernel_launcher.py:1: FutureWarning:\n",
            "\n",
            "Columnar iteration over characters will be deprecated in future releases.\n",
            "\n"
          ],
          "name": "stderr"
        },
        {
          "output_type": "error",
          "ename": "ValueError",
          "evalue": "ignored",
          "traceback": [
            "\u001b[0;31m---------------------------------------------------------------------------\u001b[0m",
            "\u001b[0;31mValueError\u001b[0m                                Traceback (most recent call last)",
            "\u001b[0;32m<ipython-input-49-3cfe601733b8>\u001b[0m in \u001b[0;36m<module>\u001b[0;34m()\u001b[0m\n\u001b[0;32m----> 1\u001b[0;31m \u001b[0mdf2\u001b[0m\u001b[0;34m[\u001b[0m\u001b[0;34m'Salary Estimate'\u001b[0m\u001b[0;34m]\u001b[0m\u001b[0;34m,\u001b[0m\u001b[0m_\u001b[0m\u001b[0;34m=\u001b[0m\u001b[0mdf2\u001b[0m\u001b[0;34m[\u001b[0m\u001b[0;34m'Salary Estimate'\u001b[0m\u001b[0;34m]\u001b[0m\u001b[0;34m.\u001b[0m\u001b[0mstr\u001b[0m\u001b[0;34m.\u001b[0m\u001b[0msplit\u001b[0m\u001b[0;34m(\u001b[0m\u001b[0;34m'('\u001b[0m\u001b[0;34m,\u001b[0m \u001b[0;36m1\u001b[0m\u001b[0;34m)\u001b[0m\u001b[0;34m.\u001b[0m\u001b[0mstr\u001b[0m\u001b[0;34m\u001b[0m\u001b[0;34m\u001b[0m\u001b[0m\n\u001b[0m",
            "\u001b[0;31mValueError\u001b[0m: not enough values to unpack (expected 2, got 1)"
          ]
        }
      ]
    },
    {
      "cell_type": "code",
      "metadata": {
        "id": "s53CWDkbe42O",
        "outputId": "bcec76d5-fe6b-4b65-94d2-c22d182990a9",
        "colab": {
          "base_uri": "https://localhost:8080/"
        }
      },
      "source": [
        "data['Min_Salary'],data['Max_Salary']=data['Salary Estimate'].str.split('-').str\n",
        "data['Min_Salary']=data['Min_Salary'].str.strip(' ').str.lstrip('$').str.rstrip('K').fillna(0).astype('int')\n",
        "data['Max_Salary']=data['Max_Salary'].str.strip(' ').str.lstrip('$').str.rstrip('K').fillna(0).astype('int')"
      ],
      "execution_count": 14,
      "outputs": [
        {
          "output_type": "stream",
          "text": [
            "/usr/local/lib/python3.7/dist-packages/ipykernel_launcher.py:1: FutureWarning:\n",
            "\n",
            "Columnar iteration over characters will be deprecated in future releases.\n",
            "\n"
          ],
          "name": "stderr"
        }
      ]
    },
    {
      "cell_type": "code",
      "metadata": {
        "id": "7mwFJDFrqn9G",
        "outputId": "f8c1c944-440b-4a90-e811-0f08f444d8ae",
        "colab": {
          "base_uri": "https://localhost:8080/"
        }
      },
      "source": [
        "df2['Min_Salary'],df2['Max_Salary']=df2['Salary Estimate'].str.split('-').str\n",
        "df2['Min_Salary']=df2['Min_Salary'].str.strip(' ').str.lstrip('$').str.rstrip('K').fillna(0).astype('int')\n",
        "df2['Max_Salary']=df2['Max_Salary'].str.strip(' ').str.lstrip('$').str.rstrip('K').fillna(0).astype('int')"
      ],
      "execution_count": 51,
      "outputs": [
        {
          "output_type": "stream",
          "text": [
            "/usr/local/lib/python3.7/dist-packages/ipykernel_launcher.py:1: FutureWarning:\n",
            "\n",
            "Columnar iteration over characters will be deprecated in future releases.\n",
            "\n"
          ],
          "name": "stderr"
        }
      ]
    },
    {
      "cell_type": "code",
      "metadata": {
        "id": "PmE2_Fw4graL"
      },
      "source": [
        "salary=pd.DataFrame(data, columns=['Salary Estimate','Min_Salary', 'Max_Salary'])"
      ],
      "execution_count": 17,
      "outputs": []
    },
    {
      "cell_type": "code",
      "metadata": {
        "id": "Sf55RkjSiAs-",
        "outputId": "7f003f43-411d-442d-9fb4-8f5b898c55b6",
        "colab": {
          "base_uri": "https://localhost:8080/",
          "height": 402
        }
      },
      "source": [
        "salary"
      ],
      "execution_count": 35,
      "outputs": [
        {
          "output_type": "execute_result",
          "data": {
            "text/html": [
              "<div>\n",
              "<style scoped>\n",
              "    .dataframe tbody tr th:only-of-type {\n",
              "        vertical-align: middle;\n",
              "    }\n",
              "\n",
              "    .dataframe tbody tr th {\n",
              "        vertical-align: top;\n",
              "    }\n",
              "\n",
              "    .dataframe thead th {\n",
              "        text-align: right;\n",
              "    }\n",
              "</style>\n",
              "<table border=\"1\" class=\"dataframe\">\n",
              "  <thead>\n",
              "    <tr style=\"text-align: right;\">\n",
              "      <th></th>\n",
              "      <th>Salary Estimate</th>\n",
              "      <th>Min_Salary</th>\n",
              "      <th>Max_Salary</th>\n",
              "    </tr>\n",
              "  </thead>\n",
              "  <tbody>\n",
              "    <tr>\n",
              "      <th>0</th>\n",
              "      <td>$37K-$66K</td>\n",
              "      <td>37</td>\n",
              "      <td>66</td>\n",
              "    </tr>\n",
              "    <tr>\n",
              "      <th>1</th>\n",
              "      <td>$37K-$66K</td>\n",
              "      <td>37</td>\n",
              "      <td>66</td>\n",
              "    </tr>\n",
              "    <tr>\n",
              "      <th>2</th>\n",
              "      <td>$37K-$66K</td>\n",
              "      <td>37</td>\n",
              "      <td>66</td>\n",
              "    </tr>\n",
              "    <tr>\n",
              "      <th>3</th>\n",
              "      <td>$37K-$66K</td>\n",
              "      <td>37</td>\n",
              "      <td>66</td>\n",
              "    </tr>\n",
              "    <tr>\n",
              "      <th>4</th>\n",
              "      <td>$37K-$66K</td>\n",
              "      <td>37</td>\n",
              "      <td>66</td>\n",
              "    </tr>\n",
              "    <tr>\n",
              "      <th>...</th>\n",
              "      <td>...</td>\n",
              "      <td>...</td>\n",
              "      <td>...</td>\n",
              "    </tr>\n",
              "    <tr>\n",
              "      <th>2248</th>\n",
              "      <td>$78K-$104K</td>\n",
              "      <td>78</td>\n",
              "      <td>104</td>\n",
              "    </tr>\n",
              "    <tr>\n",
              "      <th>2249</th>\n",
              "      <td>$78K-$104K</td>\n",
              "      <td>78</td>\n",
              "      <td>104</td>\n",
              "    </tr>\n",
              "    <tr>\n",
              "      <th>2250</th>\n",
              "      <td>$78K-$104K</td>\n",
              "      <td>78</td>\n",
              "      <td>104</td>\n",
              "    </tr>\n",
              "    <tr>\n",
              "      <th>2251</th>\n",
              "      <td>$78K-$104K</td>\n",
              "      <td>78</td>\n",
              "      <td>104</td>\n",
              "    </tr>\n",
              "    <tr>\n",
              "      <th>2252</th>\n",
              "      <td>$78K-$104K</td>\n",
              "      <td>78</td>\n",
              "      <td>104</td>\n",
              "    </tr>\n",
              "  </tbody>\n",
              "</table>\n",
              "<p>2253 rows × 3 columns</p>\n",
              "</div>"
            ],
            "text/plain": [
              "     Salary Estimate  Min_Salary  Max_Salary\n",
              "0         $37K-$66K           37          66\n",
              "1         $37K-$66K           37          66\n",
              "2         $37K-$66K           37          66\n",
              "3         $37K-$66K           37          66\n",
              "4         $37K-$66K           37          66\n",
              "...              ...         ...         ...\n",
              "2248     $78K-$104K           78         104\n",
              "2249     $78K-$104K           78         104\n",
              "2250     $78K-$104K           78         104\n",
              "2251     $78K-$104K           78         104\n",
              "2252     $78K-$104K           78         104\n",
              "\n",
              "[2253 rows x 3 columns]"
            ]
          },
          "metadata": {
            "tags": []
          },
          "execution_count": 35
        }
      ]
    },
    {
      "cell_type": "code",
      "metadata": {
        "id": "IENDzrM8kOiE",
        "outputId": "82d5ec37-4ae0-44c2-ca7e-319f7d20cd94",
        "colab": {
          "base_uri": "https://localhost:8080/"
        }
      },
      "source": [
        "print(data['Salary Estimate'].unique())"
      ],
      "execution_count": 36,
      "outputs": [
        {
          "output_type": "stream",
          "text": [
            "['$37K-$66K ' '$46K-$87K ' '$51K-$88K ' '$51K-$87K ' '$59K-$85K '\n",
            " '$43K-$76K ' '$60K-$110K ' '$41K-$78K ' '$45K-$88K ' '$73K-$127K '\n",
            " '$84K-$90K ' '$27K-$52K ' '$42K-$74K ' '$77K-$132K ' '$98K-$114K '\n",
            " '$48K-$96K ' '$26K-$47K ' '$31K-$59K ' '$47K-$81K ' '$43K-$69K '\n",
            " '$49K-$112K ' '$30K-$54K ' '$55K-$103K ' '$37K-$70K ' '$57K-$103K '\n",
            " '$35K-$45K ' '$42K-$66K ' '$65K-$81K ' '$113K-$132K ' '$42K-$63K '\n",
            " '$60K-$66K ' '$73K-$82K ' '$67K-$92K ' '$42K-$76K ' '$97K-$129K '\n",
            " '$68K-$87K ' '$29K-$38K ' '$47K-$76K ' '$74K-$123K ' '$53K-$94K '\n",
            " '$46K-$102K ' '$43K-$94K ' '$45K-$78K ' '$38K-$68K ' '$37K-$44K '\n",
            " '$64K-$113K ' '$50K-$93K ' '$37K-$68K ' '$73K-$89K ' '$76K-$122K '\n",
            " '$60K-$124K ' '$34K-$61K ' '$24K-$48K ' '$30K-$53K ' '$41K-$86K '\n",
            " '$44K-$82K ' '$48K-$88K ' '$44K-$78K ' '$110K-$190K ' '$89K-$151K '\n",
            " '$69K-$127K ' '$51K-$93K ' '$58K-$93K ' '$63K-$116K ' '$53K-$104K '\n",
            " '$35K-$42K ' '$43K-$77K ' '$40K-$72K ' '$50K-$86K ' '$35K-$67K '\n",
            " '$57K-$70K ' '$28K-$52K ' '$46K-$86K ' '$54K-$75K ' '$53K-$99K '\n",
            " '$40K-$74K ' '$57K-$104K ' '$99K-$178K ' '$93K-$159K ' '$82K-$116K '\n",
            " '$65K-$120K ' '$47K-$74K ' '$55K-$101K ' nan '$32K-$56K ' '$36K-$67K '\n",
            " '$57K-$67K ' '$49K-$91K ' '$57K-$100K ' '$78K-$104K ']\n"
          ],
          "name": "stdout"
        }
      ]
    },
    {
      "cell_type": "code",
      "metadata": {
        "id": "z8ytc4MXnwKU"
      },
      "source": [
        "countSalary=pd.DataFrame(data['Salary Estimate'].unique())"
      ],
      "execution_count": 38,
      "outputs": []
    },
    {
      "cell_type": "code",
      "metadata": {
        "id": "gzAfY1m6oJjE"
      },
      "source": [
        "countSalaryIndex=countSalary.index"
      ],
      "execution_count": 39,
      "outputs": []
    },
    {
      "cell_type": "code",
      "metadata": {
        "id": "elGjK7WLo4Eu",
        "outputId": "e830d64d-3fae-4555-876a-3fe9805061ef",
        "colab": {
          "base_uri": "https://localhost:8080/"
        }
      },
      "source": [
        "print(len(countSalaryIndex))"
      ],
      "execution_count": 41,
      "outputs": [
        {
          "output_type": "stream",
          "text": [
            "90\n"
          ],
          "name": "stdout"
        }
      ]
    },
    {
      "cell_type": "code",
      "metadata": {
        "id": "u6ksBUP1o7rJ",
        "outputId": "5153fe0f-165c-438f-9566-b849675c7100",
        "colab": {
          "base_uri": "https://localhost:8080/",
          "height": 715
        }
      },
      "source": [
        "data_analyst = data[data['Job Title']=='Data Analyst']\n",
        "\n",
        "\n",
        "sns.set(style=\"white\", palette=\"muted\", color_codes=True)\n",
        "\n",
        "\n",
        "f, axes = plt.subplots(1, 2, figsize=(15, 8), sharex=True)\n",
        "sns.despine(left=True)\n",
        "\n",
        "#Plot a histogram and kernel density estimate\n",
        "\n",
        "sns.distplot(data_analyst['Min_Salary'], color=\"b\", ax=axes[0])\n",
        "\n",
        "sns.distplot(data_analyst['Max_Salary'], color=\"r\",ax=axes[1])\n",
        "\n",
        "plt.setp(axes, yticks=[])\n",
        "plt.tight_layout()"
      ],
      "execution_count": 42,
      "outputs": [
        {
          "output_type": "stream",
          "text": [
            "/usr/local/lib/python3.7/dist-packages/seaborn/distributions.py:2557: FutureWarning:\n",
            "\n",
            "`distplot` is a deprecated function and will be removed in a future version. Please adapt your code to use either `displot` (a figure-level function with similar flexibility) or `histplot` (an axes-level function for histograms).\n",
            "\n",
            "/usr/local/lib/python3.7/dist-packages/seaborn/distributions.py:2557: FutureWarning:\n",
            "\n",
            "`distplot` is a deprecated function and will be removed in a future version. Please adapt your code to use either `displot` (a figure-level function with similar flexibility) or `histplot` (an axes-level function for histograms).\n",
            "\n"
          ],
          "name": "stderr"
        },
        {
          "output_type": "display_data",
          "data": {
            "image/png": "[encoded data removed]",
            "text/plain": [
              "<Figure size 1080x576 with 2 Axes>"
            ]
          },
          "metadata": {
            "tags": []
          }
        }
      ]
    },
    {
      "cell_type": "code",
      "metadata": {
        "id": "HDcJh2YKqzib",
        "outputId": "41deb982-8986-48a1-b204-72121b2036d4",
        "colab": {
          "base_uri": "https://localhost:8080/",
          "height": 715
        }
      },
      "source": [
        "data_analyst = df2[df2['Job Title']=='Data Analyst']\n",
        "\n",
        "\n",
        "sns.set(style=\"white\", palette=\"muted\", color_codes=True)\n",
        "\n",
        "\n",
        "f, axes = plt.subplots(1, 2, figsize=(15, 8), sharex=True)\n",
        "sns.despine(left=True)\n",
        "\n",
        "#Plot a histogram and kernel density estimate\n",
        "\n",
        "sns.distplot(data_analyst['Min_Salary'], color=\"b\", ax=axes[0])\n",
        "\n",
        "sns.distplot(data_analyst['Max_Salary'], color=\"r\",ax=axes[1])\n",
        "\n",
        "plt.setp(axes, yticks=[])\n",
        "plt.tight_layout()"
      ],
      "execution_count": 53,
      "outputs": [
        {
          "output_type": "stream",
          "text": [
            "/usr/local/lib/python3.7/dist-packages/seaborn/distributions.py:2557: FutureWarning:\n",
            "\n",
            "`distplot` is a deprecated function and will be removed in a future version. Please adapt your code to use either `displot` (a figure-level function with similar flexibility) or `histplot` (an axes-level function for histograms).\n",
            "\n",
            "/usr/local/lib/python3.7/dist-packages/seaborn/distributions.py:2557: FutureWarning:\n",
            "\n",
            "`distplot` is a deprecated function and will be removed in a future version. Please adapt your code to use either `displot` (a figure-level function with similar flexibility) or `histplot` (an axes-level function for histograms).\n",
            "\n"
          ],
          "name": "stderr"
        },
        {
          "output_type": "display_data",
          "data": {
            "image/png": "[encoded data removed]",
            "text/plain": [
              "<Figure size 1080x576 with 2 Axes>"
            ]
          },
          "metadata": {
            "tags": []
          }
        }
      ]
    }
  ]
}