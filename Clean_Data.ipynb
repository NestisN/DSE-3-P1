{
  "nbformat": 4,
  "nbformat_minor": 0,
  "metadata": {
    "colab": {
      "name": "Clean_Data.ipynb",
      "provenance": [],
      "collapsed_sections": [],
      "authorship_tag": "ABX9TyNQC/o4gc5TEs3Azs39jHQ+",
      "include_colab_link": true
    },
    "kernelspec": {
      "name": "python3",
      "display_name": "Python 3"
    },
    "language_info": {
      "name": "python"
    }
  },
  "cells": [
    {
      "cell_type": "markdown",
      "metadata": {
        "id": "view-in-github",
        "colab_type": "text"
      },
      "source": [
        "<a href=\"https://colab.research.google.com/github/NestisN/DSE-3-P1/blob/main/Clean_Data.ipynb\" target=\"_parent\"><img src=\"https://colab.research.google.com/assets/colab-badge.svg\" alt=\"Open In Colab\"/></a>"
      ]
    },
    {
      "cell_type": "code",
      "metadata": {
        "id": "83jVGty36dZj"
      },
      "source": [
        "import numpy as np\n",
        "import pandas as pd\n",
        "import matplotlib.pyplot as plt\n",
        "import plotly.express as px\n",
        "import plotly.graph_objects as go\n",
        "import seaborn as sns\n",
        "import re\n",
        "from wordcloud import WordCloud\n",
        "import missingno as msno"
      ],
      "execution_count": 2,
      "outputs": []
    },
    {
      "cell_type": "code",
      "metadata": {
        "colab": {
          "base_uri": "https://localhost:8080/"
        },
        "id": "lfTO3j9p6foG",
        "outputId": "432de3ab-2c93-4d88-cd8f-a3cf378dd495"
      },
      "source": [
        "from google.colab import drive\n",
        "drive.mount('/content/drive')\n",
        "data=pd.read_csv('/content/drive/My Drive/DSE3/DataAnalyst.csv', index_col=0)"
      ],
      "execution_count": 3,
      "outputs": [
        {
          "output_type": "stream",
          "text": [
            "Drive already mounted at /content/drive; to attempt to forcibly remount, call drive.mount(\"/content/drive\", force_remount=True).\n"
          ],
          "name": "stdout"
        }
      ]
    },
    {
      "cell_type": "code",
      "metadata": {
        "id": "j2G3Ilhg6tL6"
      },
      "source": [
        "data=data.replace(-1,np.nan)\n",
        "data=data.replace(-1.0,np.nan)\n",
        "data=data.replace('-1',np.nan)"
      ],
      "execution_count": 4,
      "outputs": []
    },
    {
      "cell_type": "code",
      "metadata": {
        "colab": {
          "base_uri": "https://localhost:8080/",
          "height": 590
        },
        "id": "LNgQD65-6vuB",
        "outputId": "4c219e74-5b70-4f10-d99e-970ae55417e4"
      },
      "source": [
        "data"
      ],
      "execution_count": 5,
      "outputs": [
        {
          "output_type": "execute_result",
          "data": {
            "text/html": [
              "<div>\n",
              "<style scoped>\n",
              "    .dataframe tbody tr th:only-of-type {\n",
              "        vertical-align: middle;\n",
              "    }\n",
              "\n",
              "    .dataframe tbody tr th {\n",
              "        vertical-align: top;\n",
              "    }\n",
              "\n",
              "    .dataframe thead th {\n",
              "        text-align: right;\n",
              "    }\n",
              "</style>\n",
              "<table border=\"1\" class=\"dataframe\">\n",
              "  <thead>\n",
              "    <tr style=\"text-align: right;\">\n",
              "      <th></th>\n",
              "      <th>Job Title</th>\n",
              "      <th>Salary Estimate</th>\n",
              "      <th>Job Description</th>\n",
              "      <th>Rating</th>\n",
              "      <th>Company Name</th>\n",
              "      <th>Location</th>\n",
              "      <th>Headquarters</th>\n",
              "      <th>Size</th>\n",
              "      <th>Founded</th>\n",
              "      <th>Type of ownership</th>\n",
              "      <th>Industry</th>\n",
              "      <th>Sector</th>\n",
              "      <th>Revenue</th>\n",
              "      <th>Competitors</th>\n",
              "      <th>Easy Apply</th>\n",
              "    </tr>\n",
              "  </thead>\n",
              "  <tbody>\n",
              "    <tr>\n",
              "      <th>0</th>\n",
              "      <td>Data Analyst, Center on Immigration and Justic...</td>\n",
              "      <td>$37K-$66K (Glassdoor est.)</td>\n",
              "      <td>Are you eager to roll up your sleeves and harn...</td>\n",
              "      <td>3.2</td>\n",
              "      <td>Vera Institute of Justice\\n3.2</td>\n",
              "      <td>New York, NY</td>\n",
              "      <td>New York, NY</td>\n",
              "      <td>201 to 500 employees</td>\n",
              "      <td>1961.0</td>\n",
              "      <td>Nonprofit Organization</td>\n",
              "      <td>Social Assistance</td>\n",
              "      <td>Non-Profit</td>\n",
              "      <td>$100 to $500 million (USD)</td>\n",
              "      <td>NaN</td>\n",
              "      <td>True</td>\n",
              "    </tr>\n",
              "    <tr>\n",
              "      <th>1</th>\n",
              "      <td>Quality Data Analyst</td>\n",
              "      <td>$37K-$66K (Glassdoor est.)</td>\n",
              "      <td>Overview\\n\\nProvides analytical and technical ...</td>\n",
              "      <td>3.8</td>\n",
              "      <td>Visiting Nurse Service of New York\\n3.8</td>\n",
              "      <td>New York, NY</td>\n",
              "      <td>New York, NY</td>\n",
              "      <td>10000+ employees</td>\n",
              "      <td>1893.0</td>\n",
              "      <td>Nonprofit Organization</td>\n",
              "      <td>Health Care Services &amp; Hospitals</td>\n",
              "      <td>Health Care</td>\n",
              "      <td>$2 to $5 billion (USD)</td>\n",
              "      <td>NaN</td>\n",
              "      <td>NaN</td>\n",
              "    </tr>\n",
              "    <tr>\n",
              "      <th>2</th>\n",
              "      <td>Senior Data Analyst, Insights &amp; Analytics Team...</td>\n",
              "      <td>$37K-$66K (Glassdoor est.)</td>\n",
              "      <td>We’re looking for a Senior Data Analyst who ha...</td>\n",
              "      <td>3.4</td>\n",
              "      <td>Squarespace\\n3.4</td>\n",
              "      <td>New York, NY</td>\n",
              "      <td>New York, NY</td>\n",
              "      <td>1001 to 5000 employees</td>\n",
              "      <td>2003.0</td>\n",
              "      <td>Company - Private</td>\n",
              "      <td>Internet</td>\n",
              "      <td>Information Technology</td>\n",
              "      <td>Unknown / Non-Applicable</td>\n",
              "      <td>GoDaddy</td>\n",
              "      <td>NaN</td>\n",
              "    </tr>\n",
              "    <tr>\n",
              "      <th>3</th>\n",
              "      <td>Data Analyst</td>\n",
              "      <td>$37K-$66K (Glassdoor est.)</td>\n",
              "      <td>Requisition NumberRR-0001939\\nRemote:Yes\\nWe c...</td>\n",
              "      <td>4.1</td>\n",
              "      <td>Celerity\\n4.1</td>\n",
              "      <td>New York, NY</td>\n",
              "      <td>McLean, VA</td>\n",
              "      <td>201 to 500 employees</td>\n",
              "      <td>2002.0</td>\n",
              "      <td>Subsidiary or Business Segment</td>\n",
              "      <td>IT Services</td>\n",
              "      <td>Information Technology</td>\n",
              "      <td>$50 to $100 million (USD)</td>\n",
              "      <td>NaN</td>\n",
              "      <td>NaN</td>\n",
              "    </tr>\n",
              "    <tr>\n",
              "      <th>4</th>\n",
              "      <td>Reporting Data Analyst</td>\n",
              "      <td>$37K-$66K (Glassdoor est.)</td>\n",
              "      <td>ABOUT FANDUEL GROUP\\n\\nFanDuel Group is a worl...</td>\n",
              "      <td>3.9</td>\n",
              "      <td>FanDuel\\n3.9</td>\n",
              "      <td>New York, NY</td>\n",
              "      <td>New York, NY</td>\n",
              "      <td>501 to 1000 employees</td>\n",
              "      <td>2009.0</td>\n",
              "      <td>Company - Private</td>\n",
              "      <td>Sports &amp; Recreation</td>\n",
              "      <td>Arts, Entertainment &amp; Recreation</td>\n",
              "      <td>$100 to $500 million (USD)</td>\n",
              "      <td>DraftKings</td>\n",
              "      <td>True</td>\n",
              "    </tr>\n",
              "    <tr>\n",
              "      <th>...</th>\n",
              "      <td>...</td>\n",
              "      <td>...</td>\n",
              "      <td>...</td>\n",
              "      <td>...</td>\n",
              "      <td>...</td>\n",
              "      <td>...</td>\n",
              "      <td>...</td>\n",
              "      <td>...</td>\n",
              "      <td>...</td>\n",
              "      <td>...</td>\n",
              "      <td>...</td>\n",
              "      <td>...</td>\n",
              "      <td>...</td>\n",
              "      <td>...</td>\n",
              "      <td>...</td>\n",
              "    </tr>\n",
              "    <tr>\n",
              "      <th>2248</th>\n",
              "      <td>RQS - IHHA - 201900004460 -1q Data Security An...</td>\n",
              "      <td>$78K-$104K (Glassdoor est.)</td>\n",
              "      <td>Maintains systems to protect data from unautho...</td>\n",
              "      <td>2.5</td>\n",
              "      <td>Avacend, Inc.\\n2.5</td>\n",
              "      <td>Denver, CO</td>\n",
              "      <td>Alpharetta, GA</td>\n",
              "      <td>51 to 200 employees</td>\n",
              "      <td>NaN</td>\n",
              "      <td>Company - Private</td>\n",
              "      <td>Staffing &amp; Outsourcing</td>\n",
              "      <td>Business Services</td>\n",
              "      <td>Unknown / Non-Applicable</td>\n",
              "      <td>NaN</td>\n",
              "      <td>NaN</td>\n",
              "    </tr>\n",
              "    <tr>\n",
              "      <th>2249</th>\n",
              "      <td>Senior Data Analyst (Corporate Audit)</td>\n",
              "      <td>$78K-$104K (Glassdoor est.)</td>\n",
              "      <td>Position:\\nSenior Data Analyst (Corporate Audi...</td>\n",
              "      <td>2.9</td>\n",
              "      <td>Arrow Electronics\\n2.9</td>\n",
              "      <td>Centennial, CO</td>\n",
              "      <td>Centennial, CO</td>\n",
              "      <td>10000+ employees</td>\n",
              "      <td>1935.0</td>\n",
              "      <td>Company - Public</td>\n",
              "      <td>Wholesale</td>\n",
              "      <td>Business Services</td>\n",
              "      <td>$10+ billion (USD)</td>\n",
              "      <td>Avnet, Ingram Micro, Tech Data</td>\n",
              "      <td>NaN</td>\n",
              "    </tr>\n",
              "    <tr>\n",
              "      <th>2250</th>\n",
              "      <td>Technical Business Analyst (SQL, Data analytic...</td>\n",
              "      <td>$78K-$104K (Glassdoor est.)</td>\n",
              "      <td>Title: Technical Business Analyst (SQL, Data a...</td>\n",
              "      <td>NaN</td>\n",
              "      <td>Spiceorb</td>\n",
              "      <td>Denver, CO</td>\n",
              "      <td>NaN</td>\n",
              "      <td>NaN</td>\n",
              "      <td>NaN</td>\n",
              "      <td>NaN</td>\n",
              "      <td>NaN</td>\n",
              "      <td>NaN</td>\n",
              "      <td>NaN</td>\n",
              "      <td>NaN</td>\n",
              "      <td>NaN</td>\n",
              "    </tr>\n",
              "    <tr>\n",
              "      <th>2251</th>\n",
              "      <td>Data Analyst 3, Customer Experience</td>\n",
              "      <td>$78K-$104K (Glassdoor est.)</td>\n",
              "      <td>Summary\\n\\nResponsible for working cross-funct...</td>\n",
              "      <td>3.1</td>\n",
              "      <td>Contingent Network Services\\n3.1</td>\n",
              "      <td>Centennial, CO</td>\n",
              "      <td>West Chester, OH</td>\n",
              "      <td>201 to 500 employees</td>\n",
              "      <td>1984.0</td>\n",
              "      <td>Company - Private</td>\n",
              "      <td>Enterprise Software &amp; Network Solutions</td>\n",
              "      <td>Information Technology</td>\n",
              "      <td>$25 to $50 million (USD)</td>\n",
              "      <td>NaN</td>\n",
              "      <td>NaN</td>\n",
              "    </tr>\n",
              "    <tr>\n",
              "      <th>2252</th>\n",
              "      <td>Senior Quality Data Analyst</td>\n",
              "      <td>$78K-$104K (Glassdoor est.)</td>\n",
              "      <td>You.\\n\\nYou bring your body, mind, heart and s...</td>\n",
              "      <td>3.4</td>\n",
              "      <td>SCL Health\\n3.4</td>\n",
              "      <td>Broomfield, CO</td>\n",
              "      <td>Broomfield, CO</td>\n",
              "      <td>10000+ employees</td>\n",
              "      <td>1864.0</td>\n",
              "      <td>Nonprofit Organization</td>\n",
              "      <td>Health Care Services &amp; Hospitals</td>\n",
              "      <td>Health Care</td>\n",
              "      <td>$2 to $5 billion (USD)</td>\n",
              "      <td>Centura Health, HealthONE, Denver Health and H...</td>\n",
              "      <td>NaN</td>\n",
              "    </tr>\n",
              "  </tbody>\n",
              "</table>\n",
              "<p>2253 rows × 15 columns</p>\n",
              "</div>"
            ],
            "text/plain": [
              "                                              Job Title  ... Easy Apply\n",
              "0     Data Analyst, Center on Immigration and Justic...  ...       True\n",
              "1                                  Quality Data Analyst  ...        NaN\n",
              "2     Senior Data Analyst, Insights & Analytics Team...  ...        NaN\n",
              "3                                          Data Analyst  ...        NaN\n",
              "4                                Reporting Data Analyst  ...       True\n",
              "...                                                 ...  ...        ...\n",
              "2248  RQS - IHHA - 201900004460 -1q Data Security An...  ...        NaN\n",
              "2249              Senior Data Analyst (Corporate Audit)  ...        NaN\n",
              "2250  Technical Business Analyst (SQL, Data analytic...  ...        NaN\n",
              "2251                Data Analyst 3, Customer Experience  ...        NaN\n",
              "2252                        Senior Quality Data Analyst  ...        NaN\n",
              "\n",
              "[2253 rows x 15 columns]"
            ]
          },
          "metadata": {
            "tags": []
          },
          "execution_count": 5
        }
      ]
    },
    {
      "cell_type": "code",
      "metadata": {
        "colab": {
          "base_uri": "https://localhost:8080/"
        },
        "id": "sgMVjKUH6zwv",
        "outputId": "d25da5f4-310a-44e9-acc2-2235f42463bc"
      },
      "source": [
        "data.isnull().sum()"
      ],
      "execution_count": 6,
      "outputs": [
        {
          "output_type": "execute_result",
          "data": {
            "text/plain": [
              "Job Title               0\n",
              "Salary Estimate         1\n",
              "Job Description         0\n",
              "Rating                272\n",
              "Company Name            1\n",
              "Location                0\n",
              "Headquarters          172\n",
              "Size                  163\n",
              "Founded               660\n",
              "Type of ownership     163\n",
              "Industry              353\n",
              "Sector                353\n",
              "Revenue               163\n",
              "Competitors          1732\n",
              "Easy Apply           2173\n",
              "dtype: int64"
            ]
          },
          "metadata": {
            "tags": []
          },
          "execution_count": 6
        }
      ]
    },
    {
      "cell_type": "code",
      "metadata": {
        "colab": {
          "base_uri": "https://localhost:8080/",
          "height": 723
        },
        "id": "BU8gP53e6582",
        "outputId": "faf277ef-b532-4136-ec50-f4f5b61b0405"
      },
      "source": [
        "msno.matrix(data)"
      ],
      "execution_count": 7,
      "outputs": [
        {
          "output_type": "execute_result",
          "data": {
            "text/plain": [
              "<matplotlib.axes._subplots.AxesSubplot at 0x7f5eb595ec10>"
            ]
          },
          "metadata": {
            "tags": []
          },
          "execution_count": 7
        },
        {
          "output_type": "display_data",
          "data": {
            "image/png": "[encoded data removed]",
            "text/plain": [
              "<Figure size 1800x720 with 2 Axes>"
            ]
          },
          "metadata": {
            "tags": [],
            "needs_background": "light"
          }
        }
      ]
    },
    {
      "cell_type": "code",
      "metadata": {
        "colab": {
          "base_uri": "https://localhost:8080/",
          "height": 712
        },
        "id": "Q7yD0AoO68Yr",
        "outputId": "d6b5a20d-bf7c-4b0e-cd3e-8ddb22d35715"
      },
      "source": [
        "msno.dendrogram(data)"
      ],
      "execution_count": 8,
      "outputs": [
        {
          "output_type": "execute_result",
          "data": {
            "text/plain": [
              "<matplotlib.axes._subplots.AxesSubplot at 0x7f5ead85d810>"
            ]
          },
          "metadata": {
            "tags": []
          },
          "execution_count": 8
        },
        {
          "output_type": "display_data",
          "data": {
            "image/png": "[encoded data removed]",
            "text/plain": [
              "<Figure size 1800x720 with 1 Axes>"
            ]
          },
          "metadata": {
            "tags": [],
            "needs_background": "light"
          }
        }
      ]
    },
    {
      "cell_type": "code",
      "metadata": {
        "colab": {
          "base_uri": "https://localhost:8080/",
          "height": 77
        },
        "id": "7HNLYCsaYEbL",
        "outputId": "9cf10069-4d23-416c-94b0-a9a851b2b210"
      },
      "source": [
        "data[data['Salary Estimate'].isnull()]"
      ],
      "execution_count": 9,
      "outputs": [
        {
          "output_type": "execute_result",
          "data": {
            "text/html": [
              "<div>\n",
              "<style scoped>\n",
              "    .dataframe tbody tr th:only-of-type {\n",
              "        vertical-align: middle;\n",
              "    }\n",
              "\n",
              "    .dataframe tbody tr th {\n",
              "        vertical-align: top;\n",
              "    }\n",
              "\n",
              "    .dataframe thead th {\n",
              "        text-align: right;\n",
              "    }\n",
              "</style>\n",
              "<table border=\"1\" class=\"dataframe\">\n",
              "  <thead>\n",
              "    <tr style=\"text-align: right;\">\n",
              "      <th></th>\n",
              "      <th>Job Title</th>\n",
              "      <th>Salary Estimate</th>\n",
              "      <th>Job Description</th>\n",
              "      <th>Rating</th>\n",
              "      <th>Company Name</th>\n",
              "      <th>Location</th>\n",
              "      <th>Headquarters</th>\n",
              "      <th>Size</th>\n",
              "      <th>Founded</th>\n",
              "      <th>Type of ownership</th>\n",
              "      <th>Industry</th>\n",
              "      <th>Sector</th>\n",
              "      <th>Revenue</th>\n",
              "      <th>Competitors</th>\n",
              "      <th>Easy Apply</th>\n",
              "    </tr>\n",
              "  </thead>\n",
              "  <tbody>\n",
              "    <tr>\n",
              "      <th>2149</th>\n",
              "      <td>Configuration/Data Management Analyst III</td>\n",
              "      <td>NaN</td>\n",
              "      <td>Job Description\\nPosition Title: Configuration...</td>\n",
              "      <td>4.4</td>\n",
              "      <td>Protingent\\n4.4</td>\n",
              "      <td>Kent, WA</td>\n",
              "      <td>Bellevue, WA</td>\n",
              "      <td>51 to 200 employees</td>\n",
              "      <td>2001.0</td>\n",
              "      <td>Company - Private</td>\n",
              "      <td>Staffing &amp; Outsourcing</td>\n",
              "      <td>Business Services</td>\n",
              "      <td>$25 to $50 million (USD)</td>\n",
              "      <td>NaN</td>\n",
              "      <td>NaN</td>\n",
              "    </tr>\n",
              "  </tbody>\n",
              "</table>\n",
              "</div>"
            ],
            "text/plain": [
              "                                      Job Title  ... Easy Apply\n",
              "2149  Configuration/Data Management Analyst III  ...        NaN\n",
              "\n",
              "[1 rows x 15 columns]"
            ]
          },
          "metadata": {
            "tags": []
          },
          "execution_count": 9
        }
      ]
    },
    {
      "cell_type": "code",
      "metadata": {
        "id": "YJI5Vw3SaRaO"
      },
      "source": [
        "data.dropna(subset=['Salary Estimate'], inplace=True)"
      ],
      "execution_count": 11,
      "outputs": []
    },
    {
      "cell_type": "code",
      "metadata": {
        "colab": {
          "base_uri": "https://localhost:8080/",
          "height": 47
        },
        "id": "q8_5O2lDdFjP",
        "outputId": "a6297d78-0c4f-4c76-b533-6a9a24e4e0ea"
      },
      "source": [
        "data[data['Salary Estimate'].isnull()]"
      ],
      "execution_count": 12,
      "outputs": [
        {
          "output_type": "execute_result",
          "data": {
            "text/html": [
              "<div>\n",
              "<style scoped>\n",
              "    .dataframe tbody tr th:only-of-type {\n",
              "        vertical-align: middle;\n",
              "    }\n",
              "\n",
              "    .dataframe tbody tr th {\n",
              "        vertical-align: top;\n",
              "    }\n",
              "\n",
              "    .dataframe thead th {\n",
              "        text-align: right;\n",
              "    }\n",
              "</style>\n",
              "<table border=\"1\" class=\"dataframe\">\n",
              "  <thead>\n",
              "    <tr style=\"text-align: right;\">\n",
              "      <th></th>\n",
              "      <th>Job Title</th>\n",
              "      <th>Salary Estimate</th>\n",
              "      <th>Job Description</th>\n",
              "      <th>Rating</th>\n",
              "      <th>Company Name</th>\n",
              "      <th>Location</th>\n",
              "      <th>Headquarters</th>\n",
              "      <th>Size</th>\n",
              "      <th>Founded</th>\n",
              "      <th>Type of ownership</th>\n",
              "      <th>Industry</th>\n",
              "      <th>Sector</th>\n",
              "      <th>Revenue</th>\n",
              "      <th>Competitors</th>\n",
              "      <th>Easy Apply</th>\n",
              "    </tr>\n",
              "  </thead>\n",
              "  <tbody>\n",
              "  </tbody>\n",
              "</table>\n",
              "</div>"
            ],
            "text/plain": [
              "Empty DataFrame\n",
              "Columns: [Job Title, Salary Estimate, Job Description, Rating, Company Name, Location, Headquarters, Size, Founded, Type of ownership, Industry, Sector, Revenue, Competitors, Easy Apply]\n",
              "Index: []"
            ]
          },
          "metadata": {
            "tags": []
          },
          "execution_count": 12
        }
      ]
    },
    {
      "cell_type": "code",
      "metadata": {
        "colab": {
          "base_uri": "https://localhost:8080/"
        },
        "id": "xbHTfaKucyvF",
        "outputId": "e1fde9d2-bcae-45a5-d5fc-6500d8717cc8"
      },
      "source": [
        "data.isnull().sum()"
      ],
      "execution_count": 13,
      "outputs": [
        {
          "output_type": "execute_result",
          "data": {
            "text/plain": [
              "Job Title               0\n",
              "Salary Estimate         0\n",
              "Job Description         0\n",
              "Rating                272\n",
              "Company Name            1\n",
              "Location                0\n",
              "Headquarters          172\n",
              "Size                  163\n",
              "Founded               660\n",
              "Type of ownership     163\n",
              "Industry              353\n",
              "Sector                353\n",
              "Revenue               163\n",
              "Competitors          1731\n",
              "Easy Apply           2172\n",
              "dtype: int64"
            ]
          },
          "metadata": {
            "tags": []
          },
          "execution_count": 13
        }
      ]
    },
    {
      "cell_type": "code",
      "metadata": {
        "colab": {
          "base_uri": "https://localhost:8080/",
          "height": 77
        },
        "id": "1ZfF8vbdhSst",
        "outputId": "25d3824f-831e-411b-df39-bcc131fde028"
      },
      "source": [
        "data[data['Company Name'].isnull()]"
      ],
      "execution_count": 14,
      "outputs": [
        {
          "output_type": "execute_result",
          "data": {
            "text/html": [
              "<div>\n",
              "<style scoped>\n",
              "    .dataframe tbody tr th:only-of-type {\n",
              "        vertical-align: middle;\n",
              "    }\n",
              "\n",
              "    .dataframe tbody tr th {\n",
              "        vertical-align: top;\n",
              "    }\n",
              "\n",
              "    .dataframe thead th {\n",
              "        text-align: right;\n",
              "    }\n",
              "</style>\n",
              "<table border=\"1\" class=\"dataframe\">\n",
              "  <thead>\n",
              "    <tr style=\"text-align: right;\">\n",
              "      <th></th>\n",
              "      <th>Job Title</th>\n",
              "      <th>Salary Estimate</th>\n",
              "      <th>Job Description</th>\n",
              "      <th>Rating</th>\n",
              "      <th>Company Name</th>\n",
              "      <th>Location</th>\n",
              "      <th>Headquarters</th>\n",
              "      <th>Size</th>\n",
              "      <th>Founded</th>\n",
              "      <th>Type of ownership</th>\n",
              "      <th>Industry</th>\n",
              "      <th>Sector</th>\n",
              "      <th>Revenue</th>\n",
              "      <th>Competitors</th>\n",
              "      <th>Easy Apply</th>\n",
              "    </tr>\n",
              "  </thead>\n",
              "  <tbody>\n",
              "    <tr>\n",
              "      <th>1860</th>\n",
              "      <td>Data Analyst</td>\n",
              "      <td>$53K-$99K (Glassdoor est.)</td>\n",
              "      <td>Kindred at Home, part of the Kindred at Home f...</td>\n",
              "      <td>NaN</td>\n",
              "      <td>NaN</td>\n",
              "      <td>Mooresville, NC</td>\n",
              "      <td>NaN</td>\n",
              "      <td>NaN</td>\n",
              "      <td>NaN</td>\n",
              "      <td>NaN</td>\n",
              "      <td>NaN</td>\n",
              "      <td>NaN</td>\n",
              "      <td>NaN</td>\n",
              "      <td>NaN</td>\n",
              "      <td>NaN</td>\n",
              "    </tr>\n",
              "  </tbody>\n",
              "</table>\n",
              "</div>"
            ],
            "text/plain": [
              "         Job Title             Salary Estimate  ... Competitors  Easy Apply\n",
              "1860  Data Analyst  $53K-$99K (Glassdoor est.)  ...         NaN         NaN\n",
              "\n",
              "[1 rows x 15 columns]"
            ]
          },
          "metadata": {
            "tags": []
          },
          "execution_count": 14
        }
      ]
    },
    {
      "cell_type": "code",
      "metadata": {
        "id": "-ilVin-7hgeM"
      },
      "source": [
        "data.dropna(subset=['Company Name'], inplace=True)"
      ],
      "execution_count": 15,
      "outputs": []
    },
    {
      "cell_type": "code",
      "metadata": {
        "colab": {
          "base_uri": "https://localhost:8080/"
        },
        "id": "_iwQbefLhrBF",
        "outputId": "41865641-6c0e-4eb4-e2ba-54407dcc2650"
      },
      "source": [
        "data.isnull().sum()"
      ],
      "execution_count": 16,
      "outputs": [
        {
          "output_type": "execute_result",
          "data": {
            "text/plain": [
              "Job Title               0\n",
              "Salary Estimate         0\n",
              "Job Description         0\n",
              "Rating                271\n",
              "Company Name            0\n",
              "Location                0\n",
              "Headquarters          171\n",
              "Size                  162\n",
              "Founded               659\n",
              "Type of ownership     162\n",
              "Industry              352\n",
              "Sector                352\n",
              "Revenue               162\n",
              "Competitors          1730\n",
              "Easy Apply           2171\n",
              "dtype: int64"
            ]
          },
          "metadata": {
            "tags": []
          },
          "execution_count": 16
        }
      ]
    },
    {
      "cell_type": "code",
      "metadata": {
        "colab": {
          "base_uri": "https://localhost:8080/",
          "height": 297
        },
        "id": "sX1wf27BiNCj",
        "outputId": "51096df8-43a2-4865-b94c-fbe804b6b1b6"
      },
      "source": [
        "data.head()"
      ],
      "execution_count": 18,
      "outputs": [
        {
          "output_type": "execute_result",
          "data": {
            "text/html": [
              "<div>\n",
              "<style scoped>\n",
              "    .dataframe tbody tr th:only-of-type {\n",
              "        vertical-align: middle;\n",
              "    }\n",
              "\n",
              "    .dataframe tbody tr th {\n",
              "        vertical-align: top;\n",
              "    }\n",
              "\n",
              "    .dataframe thead th {\n",
              "        text-align: right;\n",
              "    }\n",
              "</style>\n",
              "<table border=\"1\" class=\"dataframe\">\n",
              "  <thead>\n",
              "    <tr style=\"text-align: right;\">\n",
              "      <th></th>\n",
              "      <th>Job Title</th>\n",
              "      <th>Salary Estimate</th>\n",
              "      <th>Job Description</th>\n",
              "      <th>Rating</th>\n",
              "      <th>Company Name</th>\n",
              "      <th>Location</th>\n",
              "      <th>Headquarters</th>\n",
              "      <th>Size</th>\n",
              "      <th>Founded</th>\n",
              "      <th>Type of ownership</th>\n",
              "      <th>Industry</th>\n",
              "      <th>Sector</th>\n",
              "      <th>Revenue</th>\n",
              "      <th>Competitors</th>\n",
              "      <th>Easy Apply</th>\n",
              "    </tr>\n",
              "  </thead>\n",
              "  <tbody>\n",
              "    <tr>\n",
              "      <th>0</th>\n",
              "      <td>Data Analyst, Center on Immigration and Justic...</td>\n",
              "      <td>$37K-$66K (Glassdoor est.)</td>\n",
              "      <td>Are you eager to roll up your sleeves and harn...</td>\n",
              "      <td>3.2</td>\n",
              "      <td>Vera Institute of Justice\\n3.2</td>\n",
              "      <td>New York, NY</td>\n",
              "      <td>New York, NY</td>\n",
              "      <td>201 to 500 employees</td>\n",
              "      <td>1961.0</td>\n",
              "      <td>Nonprofit Organization</td>\n",
              "      <td>Social Assistance</td>\n",
              "      <td>Non-Profit</td>\n",
              "      <td>$100 to $500 million (USD)</td>\n",
              "      <td>NaN</td>\n",
              "      <td>True</td>\n",
              "    </tr>\n",
              "    <tr>\n",
              "      <th>1</th>\n",
              "      <td>Quality Data Analyst</td>\n",
              "      <td>$37K-$66K (Glassdoor est.)</td>\n",
              "      <td>Overview\\n\\nProvides analytical and technical ...</td>\n",
              "      <td>3.8</td>\n",
              "      <td>Visiting Nurse Service of New York\\n3.8</td>\n",
              "      <td>New York, NY</td>\n",
              "      <td>New York, NY</td>\n",
              "      <td>10000+ employees</td>\n",
              "      <td>1893.0</td>\n",
              "      <td>Nonprofit Organization</td>\n",
              "      <td>Health Care Services &amp; Hospitals</td>\n",
              "      <td>Health Care</td>\n",
              "      <td>$2 to $5 billion (USD)</td>\n",
              "      <td>NaN</td>\n",
              "      <td>NaN</td>\n",
              "    </tr>\n",
              "    <tr>\n",
              "      <th>2</th>\n",
              "      <td>Senior Data Analyst, Insights &amp; Analytics Team...</td>\n",
              "      <td>$37K-$66K (Glassdoor est.)</td>\n",
              "      <td>We’re looking for a Senior Data Analyst who ha...</td>\n",
              "      <td>3.4</td>\n",
              "      <td>Squarespace\\n3.4</td>\n",
              "      <td>New York, NY</td>\n",
              "      <td>New York, NY</td>\n",
              "      <td>1001 to 5000 employees</td>\n",
              "      <td>2003.0</td>\n",
              "      <td>Company - Private</td>\n",
              "      <td>Internet</td>\n",
              "      <td>Information Technology</td>\n",
              "      <td>Unknown / Non-Applicable</td>\n",
              "      <td>GoDaddy</td>\n",
              "      <td>NaN</td>\n",
              "    </tr>\n",
              "    <tr>\n",
              "      <th>3</th>\n",
              "      <td>Data Analyst</td>\n",
              "      <td>$37K-$66K (Glassdoor est.)</td>\n",
              "      <td>Requisition NumberRR-0001939\\nRemote:Yes\\nWe c...</td>\n",
              "      <td>4.1</td>\n",
              "      <td>Celerity\\n4.1</td>\n",
              "      <td>New York, NY</td>\n",
              "      <td>McLean, VA</td>\n",
              "      <td>201 to 500 employees</td>\n",
              "      <td>2002.0</td>\n",
              "      <td>Subsidiary or Business Segment</td>\n",
              "      <td>IT Services</td>\n",
              "      <td>Information Technology</td>\n",
              "      <td>$50 to $100 million (USD)</td>\n",
              "      <td>NaN</td>\n",
              "      <td>NaN</td>\n",
              "    </tr>\n",
              "    <tr>\n",
              "      <th>4</th>\n",
              "      <td>Reporting Data Analyst</td>\n",
              "      <td>$37K-$66K (Glassdoor est.)</td>\n",
              "      <td>ABOUT FANDUEL GROUP\\n\\nFanDuel Group is a worl...</td>\n",
              "      <td>3.9</td>\n",
              "      <td>FanDuel\\n3.9</td>\n",
              "      <td>New York, NY</td>\n",
              "      <td>New York, NY</td>\n",
              "      <td>501 to 1000 employees</td>\n",
              "      <td>2009.0</td>\n",
              "      <td>Company - Private</td>\n",
              "      <td>Sports &amp; Recreation</td>\n",
              "      <td>Arts, Entertainment &amp; Recreation</td>\n",
              "      <td>$100 to $500 million (USD)</td>\n",
              "      <td>DraftKings</td>\n",
              "      <td>True</td>\n",
              "    </tr>\n",
              "  </tbody>\n",
              "</table>\n",
              "</div>"
            ],
            "text/plain": [
              "                                           Job Title  ... Easy Apply\n",
              "0  Data Analyst, Center on Immigration and Justic...  ...       True\n",
              "1                               Quality Data Analyst  ...        NaN\n",
              "2  Senior Data Analyst, Insights & Analytics Team...  ...        NaN\n",
              "3                                       Data Analyst  ...        NaN\n",
              "4                             Reporting Data Analyst  ...       True\n",
              "\n",
              "[5 rows x 15 columns]"
            ]
          },
          "metadata": {
            "tags": []
          },
          "execution_count": 18
        }
      ]
    },
    {
      "cell_type": "code",
      "metadata": {
        "colab": {
          "base_uri": "https://localhost:8080/",
          "height": 712
        },
        "id": "Yvh9k0oLiBJx",
        "outputId": "46f42f45-25e4-4a0b-8b4e-6d3e8d371b0e"
      },
      "source": [
        "msno.dendrogram(data)"
      ],
      "execution_count": 17,
      "outputs": [
        {
          "output_type": "execute_result",
          "data": {
            "text/plain": [
              "<matplotlib.axes._subplots.AxesSubplot at 0x7f5eac03c190>"
            ]
          },
          "metadata": {
            "tags": []
          },
          "execution_count": 17
        },
        {
          "output_type": "display_data",
          "data": {
            "image/png": "[encoded data removed]",
            "text/plain": [
              "<Figure size 1800x720 with 1 Axes>"
            ]
          },
          "metadata": {
            "tags": [],
            "needs_background": "light"
          }
        }
      ]
    },
    {
      "cell_type": "code",
      "metadata": {
        "id": "gvvAMI-qf_Sg"
      },
      "source": [
        "newData=pd.DataFrame(data, columns=[\"Job Title\",\"Salary Estimate\",\"Job Description\",\"Rating\",\"Company Name\",\"Location\",\"Headquarters\",\"Size\",\"Founded\",\"Type of ownership\",\"Industry\",\"Sector\",\"Revenue\"])"
      ],
      "execution_count": 19,
      "outputs": []
    },
    {
      "cell_type": "code",
      "metadata": {
        "colab": {
          "base_uri": "https://localhost:8080/",
          "height": 406
        },
        "id": "Spmwyy_UknpI",
        "outputId": "bd5d414d-f93a-4923-d324-8efd13146821"
      },
      "source": [
        "newData[newData['Headquarters'].isnull() & newData['Size'].isnull() & newData['Founded'].isnull() & newData['Type of ownership'].isnull() & newData['Industry'].isnull() & newData['Sector'].isnull() & newData['Revenue'].isnull()]"
      ],
      "execution_count": 27,
      "outputs": [
        {
          "output_type": "execute_result",
          "data": {
            "text/html": [
              "<div>\n",
              "<style scoped>\n",
              "    .dataframe tbody tr th:only-of-type {\n",
              "        vertical-align: middle;\n",
              "    }\n",
              "\n",
              "    .dataframe tbody tr th {\n",
              "        vertical-align: top;\n",
              "    }\n",
              "\n",
              "    .dataframe thead th {\n",
              "        text-align: right;\n",
              "    }\n",
              "</style>\n",
              "<table border=\"1\" class=\"dataframe\">\n",
              "  <thead>\n",
              "    <tr style=\"text-align: right;\">\n",
              "      <th></th>\n",
              "      <th>Job Title</th>\n",
              "      <th>Salary Estimate</th>\n",
              "      <th>Job Description</th>\n",
              "      <th>Rating</th>\n",
              "      <th>Company Name</th>\n",
              "      <th>Location</th>\n",
              "      <th>Headquarters</th>\n",
              "      <th>Size</th>\n",
              "      <th>Founded</th>\n",
              "      <th>Type of ownership</th>\n",
              "      <th>Industry</th>\n",
              "      <th>Sector</th>\n",
              "      <th>Revenue</th>\n",
              "    </tr>\n",
              "  </thead>\n",
              "  <tbody>\n",
              "    <tr>\n",
              "      <th>34</th>\n",
              "      <td>Data Analyst (Games)</td>\n",
              "      <td>$46K-$87K (Glassdoor est.)</td>\n",
              "      <td>Carry1st is the leading mobile game publisher ...</td>\n",
              "      <td>NaN</td>\n",
              "      <td>Carry1st</td>\n",
              "      <td>New York, NY</td>\n",
              "      <td>NaN</td>\n",
              "      <td>NaN</td>\n",
              "      <td>NaN</td>\n",
              "      <td>NaN</td>\n",
              "      <td>NaN</td>\n",
              "      <td>NaN</td>\n",
              "      <td>NaN</td>\n",
              "    </tr>\n",
              "    <tr>\n",
              "      <th>55</th>\n",
              "      <td>Data Reporting Analyst</td>\n",
              "      <td>$46K-$87K (Glassdoor est.)</td>\n",
              "      <td>OverviewThe Data Analyst is a new position in ...</td>\n",
              "      <td>NaN</td>\n",
              "      <td>NADAP NYS INC.</td>\n",
              "      <td>New York, NY</td>\n",
              "      <td>NaN</td>\n",
              "      <td>NaN</td>\n",
              "      <td>NaN</td>\n",
              "      <td>NaN</td>\n",
              "      <td>NaN</td>\n",
              "      <td>NaN</td>\n",
              "      <td>NaN</td>\n",
              "    </tr>\n",
              "    <tr>\n",
              "      <th>68</th>\n",
              "      <td>Data Science Analyst</td>\n",
              "      <td>$51K-$88K (Glassdoor est.)</td>\n",
              "      <td>Job Details\\n\\nLevel\\n\\nExperienced\\n\\nJob Loc...</td>\n",
              "      <td>NaN</td>\n",
              "      <td>Greater New York Mutual Insurance Companies (GNY)</td>\n",
              "      <td>New York, NY</td>\n",
              "      <td>NaN</td>\n",
              "      <td>NaN</td>\n",
              "      <td>NaN</td>\n",
              "      <td>NaN</td>\n",
              "      <td>NaN</td>\n",
              "      <td>NaN</td>\n",
              "      <td>NaN</td>\n",
              "    </tr>\n",
              "    <tr>\n",
              "      <th>90</th>\n",
              "      <td>Data Analyst</td>\n",
              "      <td>$51K-$87K (Glassdoor est.)</td>\n",
              "      <td>NYU Grossman School of Medicine is one of the ...</td>\n",
              "      <td>NaN</td>\n",
              "      <td>NYU Langone Medical Center</td>\n",
              "      <td>New York, NY</td>\n",
              "      <td>NaN</td>\n",
              "      <td>NaN</td>\n",
              "      <td>NaN</td>\n",
              "      <td>NaN</td>\n",
              "      <td>NaN</td>\n",
              "      <td>NaN</td>\n",
              "      <td>NaN</td>\n",
              "    </tr>\n",
              "    <tr>\n",
              "      <th>109</th>\n",
              "      <td>Data Analyst</td>\n",
              "      <td>$51K-$87K (Glassdoor est.)</td>\n",
              "      <td>Data Analyst\\n\\nJersey City, NJ\\n\\n12+ months ...</td>\n",
              "      <td>NaN</td>\n",
              "      <td>Vertex Intel Systems</td>\n",
              "      <td>Jersey City, NJ</td>\n",
              "      <td>NaN</td>\n",
              "      <td>NaN</td>\n",
              "      <td>NaN</td>\n",
              "      <td>NaN</td>\n",
              "      <td>NaN</td>\n",
              "      <td>NaN</td>\n",
              "      <td>NaN</td>\n",
              "    </tr>\n",
              "    <tr>\n",
              "      <th>...</th>\n",
              "      <td>...</td>\n",
              "      <td>...</td>\n",
              "      <td>...</td>\n",
              "      <td>...</td>\n",
              "      <td>...</td>\n",
              "      <td>...</td>\n",
              "      <td>...</td>\n",
              "      <td>...</td>\n",
              "      <td>...</td>\n",
              "      <td>...</td>\n",
              "      <td>...</td>\n",
              "      <td>...</td>\n",
              "      <td>...</td>\n",
              "    </tr>\n",
              "    <tr>\n",
              "      <th>2200</th>\n",
              "      <td>Data Analyst</td>\n",
              "      <td>$49K-$91K (Glassdoor est.)</td>\n",
              "      <td>Role Data Analyst Duration12+ months Location ...</td>\n",
              "      <td>NaN</td>\n",
              "      <td>TechAspect Solutions, Inc. dba TA Digital</td>\n",
              "      <td>Centennial, CO</td>\n",
              "      <td>NaN</td>\n",
              "      <td>NaN</td>\n",
              "      <td>NaN</td>\n",
              "      <td>NaN</td>\n",
              "      <td>NaN</td>\n",
              "      <td>NaN</td>\n",
              "      <td>NaN</td>\n",
              "    </tr>\n",
              "    <tr>\n",
              "      <th>2202</th>\n",
              "      <td>Financial Data Analyst</td>\n",
              "      <td>$49K-$91K (Glassdoor est.)</td>\n",
              "      <td>Position:Financial Data AnalystJob Description...</td>\n",
              "      <td>NaN</td>\n",
              "      <td>Black Knight Financial Technology Solutions</td>\n",
              "      <td>Denver, CO</td>\n",
              "      <td>NaN</td>\n",
              "      <td>NaN</td>\n",
              "      <td>NaN</td>\n",
              "      <td>NaN</td>\n",
              "      <td>NaN</td>\n",
              "      <td>NaN</td>\n",
              "      <td>NaN</td>\n",
              "    </tr>\n",
              "    <tr>\n",
              "      <th>2239</th>\n",
              "      <td>Senior Contract Data Analyst</td>\n",
              "      <td>$78K-$104K (Glassdoor est.)</td>\n",
              "      <td>OverviewAmyx is seeking to hire a Senior Contr...</td>\n",
              "      <td>NaN</td>\n",
              "      <td>Amyx, Iinc.</td>\n",
              "      <td>Aurora, CO</td>\n",
              "      <td>NaN</td>\n",
              "      <td>NaN</td>\n",
              "      <td>NaN</td>\n",
              "      <td>NaN</td>\n",
              "      <td>NaN</td>\n",
              "      <td>NaN</td>\n",
              "      <td>NaN</td>\n",
              "    </tr>\n",
              "    <tr>\n",
              "      <th>2246</th>\n",
              "      <td>Technical Business Analyst (SQL, Data analytic...</td>\n",
              "      <td>$78K-$104K (Glassdoor est.)</td>\n",
              "      <td>Spiceorb is looking for Technical Business Ana...</td>\n",
              "      <td>NaN</td>\n",
              "      <td>Spiceorb</td>\n",
              "      <td>Denver, CO</td>\n",
              "      <td>NaN</td>\n",
              "      <td>NaN</td>\n",
              "      <td>NaN</td>\n",
              "      <td>NaN</td>\n",
              "      <td>NaN</td>\n",
              "      <td>NaN</td>\n",
              "      <td>NaN</td>\n",
              "    </tr>\n",
              "    <tr>\n",
              "      <th>2250</th>\n",
              "      <td>Technical Business Analyst (SQL, Data analytic...</td>\n",
              "      <td>$78K-$104K (Glassdoor est.)</td>\n",
              "      <td>Title: Technical Business Analyst (SQL, Data a...</td>\n",
              "      <td>NaN</td>\n",
              "      <td>Spiceorb</td>\n",
              "      <td>Denver, CO</td>\n",
              "      <td>NaN</td>\n",
              "      <td>NaN</td>\n",
              "      <td>NaN</td>\n",
              "      <td>NaN</td>\n",
              "      <td>NaN</td>\n",
              "      <td>NaN</td>\n",
              "      <td>NaN</td>\n",
              "    </tr>\n",
              "  </tbody>\n",
              "</table>\n",
              "<p>162 rows × 13 columns</p>\n",
              "</div>"
            ],
            "text/plain": [
              "                                              Job Title  ... Revenue\n",
              "34                                 Data Analyst (Games)  ...     NaN\n",
              "55                               Data Reporting Analyst  ...     NaN\n",
              "68                                 Data Science Analyst  ...     NaN\n",
              "90                                         Data Analyst  ...     NaN\n",
              "109                                        Data Analyst  ...     NaN\n",
              "...                                                 ...  ...     ...\n",
              "2200                                       Data Analyst  ...     NaN\n",
              "2202                             Financial Data Analyst  ...     NaN\n",
              "2239                       Senior Contract Data Analyst  ...     NaN\n",
              "2246  Technical Business Analyst (SQL, Data analytic...  ...     NaN\n",
              "2250  Technical Business Analyst (SQL, Data analytic...  ...     NaN\n",
              "\n",
              "[162 rows x 13 columns]"
            ]
          },
          "metadata": {
            "tags": []
          },
          "execution_count": 27
        }
      ]
    },
    {
      "cell_type": "code",
      "metadata": {
        "id": "c0GAcgevm_1F"
      },
      "source": [
        "newData.dropna(subset=[\"Headquarters\",\"Size\",\"Founded\",\"Type of ownership\",\"Industry\",\"Sector\",\"Revenue\"], inplace=True)"
      ],
      "execution_count": 28,
      "outputs": []
    },
    {
      "cell_type": "code",
      "metadata": {
        "colab": {
          "base_uri": "https://localhost:8080/",
          "height": 47
        },
        "id": "D_YiTdHmnJLE",
        "outputId": "56e2698a-3a91-4bf7-a289-f3f441f0649e"
      },
      "source": [
        "newData[newData['Headquarters'].isnull() & newData['Size'].isnull() & newData['Founded'].isnull() & newData['Type of ownership'].isnull() & newData['Industry'].isnull() & newData['Sector'].isnull() & newData['Revenue'].isnull()]"
      ],
      "execution_count": 29,
      "outputs": [
        {
          "output_type": "execute_result",
          "data": {
            "text/html": [
              "<div>\n",
              "<style scoped>\n",
              "    .dataframe tbody tr th:only-of-type {\n",
              "        vertical-align: middle;\n",
              "    }\n",
              "\n",
              "    .dataframe tbody tr th {\n",
              "        vertical-align: top;\n",
              "    }\n",
              "\n",
              "    .dataframe thead th {\n",
              "        text-align: right;\n",
              "    }\n",
              "</style>\n",
              "<table border=\"1\" class=\"dataframe\">\n",
              "  <thead>\n",
              "    <tr style=\"text-align: right;\">\n",
              "      <th></th>\n",
              "      <th>Job Title</th>\n",
              "      <th>Salary Estimate</th>\n",
              "      <th>Job Description</th>\n",
              "      <th>Rating</th>\n",
              "      <th>Company Name</th>\n",
              "      <th>Location</th>\n",
              "      <th>Headquarters</th>\n",
              "      <th>Size</th>\n",
              "      <th>Founded</th>\n",
              "      <th>Type of ownership</th>\n",
              "      <th>Industry</th>\n",
              "      <th>Sector</th>\n",
              "      <th>Revenue</th>\n",
              "    </tr>\n",
              "  </thead>\n",
              "  <tbody>\n",
              "  </tbody>\n",
              "</table>\n",
              "</div>"
            ],
            "text/plain": [
              "Empty DataFrame\n",
              "Columns: [Job Title, Salary Estimate, Job Description, Rating, Company Name, Location, Headquarters, Size, Founded, Type of ownership, Industry, Sector, Revenue]\n",
              "Index: []"
            ]
          },
          "metadata": {
            "tags": []
          },
          "execution_count": 29
        }
      ]
    },
    {
      "cell_type": "code",
      "metadata": {
        "colab": {
          "base_uri": "https://localhost:8080/",
          "height": 573
        },
        "id": "f4KNJTlXnLwp",
        "outputId": "6f71b51b-8643-4c83-fba8-496fe09533eb"
      },
      "source": [
        "newData"
      ],
      "execution_count": 30,
      "outputs": [
        {
          "output_type": "execute_result",
          "data": {
            "text/html": [
              "<div>\n",
              "<style scoped>\n",
              "    .dataframe tbody tr th:only-of-type {\n",
              "        vertical-align: middle;\n",
              "    }\n",
              "\n",
              "    .dataframe tbody tr th {\n",
              "        vertical-align: top;\n",
              "    }\n",
              "\n",
              "    .dataframe thead th {\n",
              "        text-align: right;\n",
              "    }\n",
              "</style>\n",
              "<table border=\"1\" class=\"dataframe\">\n",
              "  <thead>\n",
              "    <tr style=\"text-align: right;\">\n",
              "      <th></th>\n",
              "      <th>Job Title</th>\n",
              "      <th>Salary Estimate</th>\n",
              "      <th>Job Description</th>\n",
              "      <th>Rating</th>\n",
              "      <th>Company Name</th>\n",
              "      <th>Location</th>\n",
              "      <th>Headquarters</th>\n",
              "      <th>Size</th>\n",
              "      <th>Founded</th>\n",
              "      <th>Type of ownership</th>\n",
              "      <th>Industry</th>\n",
              "      <th>Sector</th>\n",
              "      <th>Revenue</th>\n",
              "    </tr>\n",
              "  </thead>\n",
              "  <tbody>\n",
              "    <tr>\n",
              "      <th>0</th>\n",
              "      <td>Data Analyst, Center on Immigration and Justic...</td>\n",
              "      <td>$37K-$66K (Glassdoor est.)</td>\n",
              "      <td>Are you eager to roll up your sleeves and harn...</td>\n",
              "      <td>3.2</td>\n",
              "      <td>Vera Institute of Justice\\n3.2</td>\n",
              "      <td>New York, NY</td>\n",
              "      <td>New York, NY</td>\n",
              "      <td>201 to 500 employees</td>\n",
              "      <td>1961.0</td>\n",
              "      <td>Nonprofit Organization</td>\n",
              "      <td>Social Assistance</td>\n",
              "      <td>Non-Profit</td>\n",
              "      <td>$100 to $500 million (USD)</td>\n",
              "    </tr>\n",
              "    <tr>\n",
              "      <th>1</th>\n",
              "      <td>Quality Data Analyst</td>\n",
              "      <td>$37K-$66K (Glassdoor est.)</td>\n",
              "      <td>Overview\\n\\nProvides analytical and technical ...</td>\n",
              "      <td>3.8</td>\n",
              "      <td>Visiting Nurse Service of New York\\n3.8</td>\n",
              "      <td>New York, NY</td>\n",
              "      <td>New York, NY</td>\n",
              "      <td>10000+ employees</td>\n",
              "      <td>1893.0</td>\n",
              "      <td>Nonprofit Organization</td>\n",
              "      <td>Health Care Services &amp; Hospitals</td>\n",
              "      <td>Health Care</td>\n",
              "      <td>$2 to $5 billion (USD)</td>\n",
              "    </tr>\n",
              "    <tr>\n",
              "      <th>2</th>\n",
              "      <td>Senior Data Analyst, Insights &amp; Analytics Team...</td>\n",
              "      <td>$37K-$66K (Glassdoor est.)</td>\n",
              "      <td>We’re looking for a Senior Data Analyst who ha...</td>\n",
              "      <td>3.4</td>\n",
              "      <td>Squarespace\\n3.4</td>\n",
              "      <td>New York, NY</td>\n",
              "      <td>New York, NY</td>\n",
              "      <td>1001 to 5000 employees</td>\n",
              "      <td>2003.0</td>\n",
              "      <td>Company - Private</td>\n",
              "      <td>Internet</td>\n",
              "      <td>Information Technology</td>\n",
              "      <td>Unknown / Non-Applicable</td>\n",
              "    </tr>\n",
              "    <tr>\n",
              "      <th>3</th>\n",
              "      <td>Data Analyst</td>\n",
              "      <td>$37K-$66K (Glassdoor est.)</td>\n",
              "      <td>Requisition NumberRR-0001939\\nRemote:Yes\\nWe c...</td>\n",
              "      <td>4.1</td>\n",
              "      <td>Celerity\\n4.1</td>\n",
              "      <td>New York, NY</td>\n",
              "      <td>McLean, VA</td>\n",
              "      <td>201 to 500 employees</td>\n",
              "      <td>2002.0</td>\n",
              "      <td>Subsidiary or Business Segment</td>\n",
              "      <td>IT Services</td>\n",
              "      <td>Information Technology</td>\n",
              "      <td>$50 to $100 million (USD)</td>\n",
              "    </tr>\n",
              "    <tr>\n",
              "      <th>4</th>\n",
              "      <td>Reporting Data Analyst</td>\n",
              "      <td>$37K-$66K (Glassdoor est.)</td>\n",
              "      <td>ABOUT FANDUEL GROUP\\n\\nFanDuel Group is a worl...</td>\n",
              "      <td>3.9</td>\n",
              "      <td>FanDuel\\n3.9</td>\n",
              "      <td>New York, NY</td>\n",
              "      <td>New York, NY</td>\n",
              "      <td>501 to 1000 employees</td>\n",
              "      <td>2009.0</td>\n",
              "      <td>Company - Private</td>\n",
              "      <td>Sports &amp; Recreation</td>\n",
              "      <td>Arts, Entertainment &amp; Recreation</td>\n",
              "      <td>$100 to $500 million (USD)</td>\n",
              "    </tr>\n",
              "    <tr>\n",
              "      <th>...</th>\n",
              "      <td>...</td>\n",
              "      <td>...</td>\n",
              "      <td>...</td>\n",
              "      <td>...</td>\n",
              "      <td>...</td>\n",
              "      <td>...</td>\n",
              "      <td>...</td>\n",
              "      <td>...</td>\n",
              "      <td>...</td>\n",
              "      <td>...</td>\n",
              "      <td>...</td>\n",
              "      <td>...</td>\n",
              "      <td>...</td>\n",
              "    </tr>\n",
              "    <tr>\n",
              "      <th>2243</th>\n",
              "      <td>Data Analyst-(Remote- All across</td>\n",
              "      <td>$78K-$104K (Glassdoor est.)</td>\n",
              "      <td>About CenturyLink\\n\\nCenturyLink (NYSE: CTL) i...</td>\n",
              "      <td>3.0</td>\n",
              "      <td>CenturyLink\\n3.0</td>\n",
              "      <td>Broomfield, CO</td>\n",
              "      <td>Monroe, LA</td>\n",
              "      <td>10000+ employees</td>\n",
              "      <td>1930.0</td>\n",
              "      <td>Company - Public</td>\n",
              "      <td>Cable, Internet &amp; Telephone Providers</td>\n",
              "      <td>Telecommunications</td>\n",
              "      <td>$10+ billion (USD)</td>\n",
              "    </tr>\n",
              "    <tr>\n",
              "      <th>2245</th>\n",
              "      <td>Data Analyst Supporting the DEA #20-242</td>\n",
              "      <td>$78K-$104K (Glassdoor est.)</td>\n",
              "      <td>Salary:\\nPublished Job Title:\\nData Analyst Su...</td>\n",
              "      <td>2.8</td>\n",
              "      <td>Forfeiture Support Associates\\n2.8</td>\n",
              "      <td>Centennial, CO</td>\n",
              "      <td>Ashburn, VA</td>\n",
              "      <td>1001 to 5000 employees</td>\n",
              "      <td>2004.0</td>\n",
              "      <td>Company - Private</td>\n",
              "      <td>Staffing &amp; Outsourcing</td>\n",
              "      <td>Business Services</td>\n",
              "      <td>$50 to $100 million (USD)</td>\n",
              "    </tr>\n",
              "    <tr>\n",
              "      <th>2249</th>\n",
              "      <td>Senior Data Analyst (Corporate Audit)</td>\n",
              "      <td>$78K-$104K (Glassdoor est.)</td>\n",
              "      <td>Position:\\nSenior Data Analyst (Corporate Audi...</td>\n",
              "      <td>2.9</td>\n",
              "      <td>Arrow Electronics\\n2.9</td>\n",
              "      <td>Centennial, CO</td>\n",
              "      <td>Centennial, CO</td>\n",
              "      <td>10000+ employees</td>\n",
              "      <td>1935.0</td>\n",
              "      <td>Company - Public</td>\n",
              "      <td>Wholesale</td>\n",
              "      <td>Business Services</td>\n",
              "      <td>$10+ billion (USD)</td>\n",
              "    </tr>\n",
              "    <tr>\n",
              "      <th>2251</th>\n",
              "      <td>Data Analyst 3, Customer Experience</td>\n",
              "      <td>$78K-$104K (Glassdoor est.)</td>\n",
              "      <td>Summary\\n\\nResponsible for working cross-funct...</td>\n",
              "      <td>3.1</td>\n",
              "      <td>Contingent Network Services\\n3.1</td>\n",
              "      <td>Centennial, CO</td>\n",
              "      <td>West Chester, OH</td>\n",
              "      <td>201 to 500 employees</td>\n",
              "      <td>1984.0</td>\n",
              "      <td>Company - Private</td>\n",
              "      <td>Enterprise Software &amp; Network Solutions</td>\n",
              "      <td>Information Technology</td>\n",
              "      <td>$25 to $50 million (USD)</td>\n",
              "    </tr>\n",
              "    <tr>\n",
              "      <th>2252</th>\n",
              "      <td>Senior Quality Data Analyst</td>\n",
              "      <td>$78K-$104K (Glassdoor est.)</td>\n",
              "      <td>You.\\n\\nYou bring your body, mind, heart and s...</td>\n",
              "      <td>3.4</td>\n",
              "      <td>SCL Health\\n3.4</td>\n",
              "      <td>Broomfield, CO</td>\n",
              "      <td>Broomfield, CO</td>\n",
              "      <td>10000+ employees</td>\n",
              "      <td>1864.0</td>\n",
              "      <td>Nonprofit Organization</td>\n",
              "      <td>Health Care Services &amp; Hospitals</td>\n",
              "      <td>Health Care</td>\n",
              "      <td>$2 to $5 billion (USD)</td>\n",
              "    </tr>\n",
              "  </tbody>\n",
              "</table>\n",
              "<p>1575 rows × 13 columns</p>\n",
              "</div>"
            ],
            "text/plain": [
              "                                              Job Title  ...                     Revenue\n",
              "0     Data Analyst, Center on Immigration and Justic...  ...  $100 to $500 million (USD)\n",
              "1                                  Quality Data Analyst  ...      $2 to $5 billion (USD)\n",
              "2     Senior Data Analyst, Insights & Analytics Team...  ...    Unknown / Non-Applicable\n",
              "3                                          Data Analyst  ...   $50 to $100 million (USD)\n",
              "4                                Reporting Data Analyst  ...  $100 to $500 million (USD)\n",
              "...                                                 ...  ...                         ...\n",
              "2243                   Data Analyst-(Remote- All across  ...          $10+ billion (USD)\n",
              "2245            Data Analyst Supporting the DEA #20-242  ...   $50 to $100 million (USD)\n",
              "2249              Senior Data Analyst (Corporate Audit)  ...          $10+ billion (USD)\n",
              "2251                Data Analyst 3, Customer Experience  ...    $25 to $50 million (USD)\n",
              "2252                        Senior Quality Data Analyst  ...      $2 to $5 billion (USD)\n",
              "\n",
              "[1575 rows x 13 columns]"
            ]
          },
          "metadata": {
            "tags": []
          },
          "execution_count": 30
        }
      ]
    },
    {
      "cell_type": "code",
      "metadata": {
        "colab": {
          "base_uri": "https://localhost:8080/",
          "height": 723
        },
        "id": "EaiyMXabngUG",
        "outputId": "3935b40b-570a-448d-b654-81566bc36eee"
      },
      "source": [
        "msno.matrix(newData)"
      ],
      "execution_count": 32,
      "outputs": [
        {
          "output_type": "execute_result",
          "data": {
            "text/plain": [
              "<matplotlib.axes._subplots.AxesSubplot at 0x7f5eaada0a10>"
            ]
          },
          "metadata": {
            "tags": []
          },
          "execution_count": 32
        },
        {
          "output_type": "display_data",
          "data": {
            "image/png": "[encoded data removed]",
            "text/plain": [
              "<Figure size 1800x720 with 2 Axes>"
            ]
          },
          "metadata": {
            "tags": [],
            "needs_background": "light"
          }
        }
      ]
    }
  ]
}